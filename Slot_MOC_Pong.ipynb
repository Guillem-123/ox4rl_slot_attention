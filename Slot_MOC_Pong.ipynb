{
  "cells": [
    {
      "cell_type": "markdown",
      "metadata": {},
      "source": [
        "**0. Git clone the repo**"
      ]
    },
    {
      "cell_type": "code",
      "execution_count": null,
      "metadata": {},
      "outputs": [],
      "source": [
        "!git clone https://github.com/Guillem-123/ox4rl_slot_attention.git\n",
        "%cd ox4rl_slot_attention\n"
      ]
    },
    {
      "cell_type": "markdown",
      "metadata": {
        "id": "sSbrYEEause_"
      },
      "source": [
        "**1. Make sure to have Python 3.9 installed**"
      ]
    },
    {
      "cell_type": "markdown",
      "metadata": {},
      "source": [
        "**2. Create a conda env by running the following commands in your terminal** <br>\n",
        "conda create -n \"ox4rl_env\" python=3.9 <br>\n",
        "conda activate ox4rl_env<br>\n"
      ]
    },
    {
      "cell_type": "markdown",
      "metadata": {},
      "source": [
        "**3. Install the required dependencies** <br>\n",
        "pip install -r requirements.txt"
      ]
    },
    {
      "cell_type": "markdown",
      "metadata": {
        "id": "z56k7vRivi6M"
      },
      "source": [
        "**4. Install the environment** <br>\n",
        "Navigate into the ox4rl dir first if necessary"
      ]
    },
    {
      "cell_type": "code",
      "execution_count": null,
      "metadata": {
        "collapsed": true,
        "id": "kadlehQEYGPW"
      },
      "outputs": [],
      "source": [
        "!python -m pip install -e ."
      ]
    },
    {
      "cell_type": "markdown",
      "metadata": {
        "id": "Slh_PoSMv97r"
      },
      "source": [
        "**4.1 Check if installation was sucessful**"
      ]
    },
    {
      "cell_type": "code",
      "execution_count": null,
      "metadata": {
        "colab": {
          "base_uri": "https://localhost:8080/"
        },
        "collapsed": true,
        "id": "UaGNAfNLWF5Z",
        "outputId": "7bf665f9-70f3-4044-bf90-a9d07b28b1f9"
      },
      "outputs": [],
      "source": [
        "!python -m pip show ocatari"
      ]
    },
    {
      "cell_type": "markdown",
      "metadata": {
        "id": "o7hwLatFxBRm"
      },
      "source": [
        "**5. Generate Dataset** <br>\n",
        "You do not need to generate the whole dataset, as you can check the visualization with the validation dataset alone"
      ]
    },
    {
      "cell_type": "code",
      "execution_count": null,
      "metadata": {
        "id": "lF0aNV_dxIp6"
      },
      "outputs": [],
      "source": [
        "# generate train set\n",
        "!python -m ox4rl.dataset_creation.create_dataset_using_OCAtari -f train -m SPACE -g Pong --compute_root_images\n",
        "!python -m ox4rl.dataset_creation.create_dataset_using_OCAtari -f train -m SPACE -g Pong"
      ]
    },
    {
      "cell_type": "code",
      "execution_count": null,
      "metadata": {
        "id": "XB4XBEmlGgw2"
      },
      "outputs": [],
      "source": [
        "# generate validation set\n",
        "!python -m ox4rl.dataset_creation.create_dataset_using_OCAtari -f validation -m SPACE -g Pong --compute_root_images\n",
        "!python -m ox4rl.dataset_creation.create_dataset_using_OCAtari -f validation -m SPACE -g Pong"
      ]
    },
    {
      "cell_type": "code",
      "execution_count": null,
      "metadata": {
        "id": "-DfrjNWKGgm6"
      },
      "outputs": [],
      "source": [
        "# generate test set\n",
        "!python -m ox4rl.dataset_creation.create_dataset_using_OCAtari -f test -m SPACE -g Pong --compute_root_images\n",
        "!python -m ox4rl.dataset_creation.create_dataset_using_OCAtari -f test -m SPACE -g Pong"
      ]
    },
    {
      "cell_type": "markdown",
      "metadata": {
        "id": "wLmnFgal0CYN"
      },
      "source": [
        "**6. Model Training**\n",
        "\n",
        "We already provide you with a pretrained model in\n",
        "/ox4rl/epoch_10000_final.ckpt.\n",
        "\n",
        "In case you would want to train the model yourself you can run the docker container built for this purpose."
      ]
    },
    {
      "cell_type": "markdown",
      "metadata": {
        "id": "pe9uQgrZ0djf"
      },
      "source": [
        "**7. Generate latent dataset**\n",
        "\n",
        "We only use validation set"
      ]
    },
    {
      "cell_type": "code",
      "execution_count": null,
      "metadata": {
        "collapsed": true,
        "id": "8tn6OYKR03qy"
      },
      "outputs": [],
      "source": [
        "!python -m ox4rl.dataset_creation.create_latent_dataset_slot --config_file ox4rl/configs/slot_atari_pong.yaml --dataset_mode val"
      ]
    },
    {
      "cell_type": "markdown",
      "metadata": {
        "id": "N_jPKB-Y6VvJ"
      },
      "source": [
        "**8. Generate Bounding Box visualization**\n",
        "\n",
        "Creates a visualization folder with the resulting bounding boxes. <br>\n",
        "The resulting folder can be found in ox4rl_slot_att/visualizations"
      ]
    },
    {
      "cell_type": "code",
      "execution_count": null,
      "metadata": {
        "colab": {
          "base_uri": "https://localhost:8080/"
        },
        "collapsed": true,
        "id": "n8VKfvQVgJBt",
        "outputId": "791eb45d-c162-4ab7-cc09-9a6f8d15f47d"
      },
      "outputs": [],
      "source": [
        "!python -m ox4rl.utility_scripts.script_generate_visualizations"
      ]
    }
  ],
  "metadata": {
    "accelerator": "GPU",
    "colab": {
      "gpuType": "T4",
      "provenance": []
    },
    "kernelspec": {
      "display_name": "ox4rl",
      "language": "python",
      "name": "python3"
    },
    "language_info": {
      "codemirror_mode": {
        "name": "ipython",
        "version": 3
      },
      "file_extension": ".py",
      "mimetype": "text/x-python",
      "name": "python",
      "nbconvert_exporter": "python",
      "pygments_lexer": "ipython3",
      "version": "3.9.20"
    }
  },
  "nbformat": 4,
  "nbformat_minor": 0
}
